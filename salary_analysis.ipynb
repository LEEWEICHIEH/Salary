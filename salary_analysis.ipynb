{
 "cells": [
  {
   "cell_type": "code",
   "execution_count": 2,
   "id": "01a280b2",
   "metadata": {},
   "outputs": [
    {
     "data": {
      "text/plain": [
       "['工作表1']"
      ]
     },
     "execution_count": 2,
     "metadata": {},
     "output_type": "execute_result"
    }
   ],
   "source": [
    "import pandas as pd\n",
    "\n",
    "# Load the uploaded Excel file\n",
    "file_path = \"C:/Users/william/Desktop/薪水.xlsx\"\n",
    "excel_data = pd.ExcelFile(file_path)\n",
    "\n",
    "# Display sheet names to understand the structure\n",
    "sheet_names = excel_data.sheet_names\n",
    "sheet_names"
   ]
  },
  {
   "cell_type": "code",
   "execution_count": 3,
   "id": "2ba9c200",
   "metadata": {},
   "outputs": [
    {
     "data": {
      "text/html": [
       "<div>\n",
       "<style scoped>\n",
       "    .dataframe tbody tr th:only-of-type {\n",
       "        vertical-align: middle;\n",
       "    }\n",
       "\n",
       "    .dataframe tbody tr th {\n",
       "        vertical-align: top;\n",
       "    }\n",
       "\n",
       "    .dataframe thead th {\n",
       "        text-align: right;\n",
       "    }\n",
       "</style>\n",
       "<table border=\"1\" class=\"dataframe\">\n",
       "  <thead>\n",
       "    <tr style=\"text-align: right;\">\n",
       "      <th></th>\n",
       "      <th>degree</th>\n",
       "      <th>classification</th>\n",
       "      <th>salary</th>\n",
       "      <th>nor_salary</th>\n",
       "      <th>Unnamed: 4</th>\n",
       "      <th>Unnamed: 5</th>\n",
       "      <th>basic monthly salary</th>\n",
       "      <th>28590</th>\n",
       "    </tr>\n",
       "  </thead>\n",
       "  <tbody>\n",
       "    <tr>\n",
       "      <th>0</th>\n",
       "      <td>master</td>\n",
       "      <td>1</td>\n",
       "      <td>50393</td>\n",
       "      <td>21803</td>\n",
       "      <td>1</td>\n",
       "      <td>NaN</td>\n",
       "      <td>NaN</td>\n",
       "      <td>28590</td>\n",
       "    </tr>\n",
       "    <tr>\n",
       "      <th>1</th>\n",
       "      <td>master</td>\n",
       "      <td>1</td>\n",
       "      <td>43984</td>\n",
       "      <td>15394</td>\n",
       "      <td>1</td>\n",
       "      <td>NaN</td>\n",
       "      <td>NaN</td>\n",
       "      <td>28590</td>\n",
       "    </tr>\n",
       "    <tr>\n",
       "      <th>2</th>\n",
       "      <td>master</td>\n",
       "      <td>1</td>\n",
       "      <td>44518</td>\n",
       "      <td>15928</td>\n",
       "      <td>1</td>\n",
       "      <td>NaN</td>\n",
       "      <td>NaN</td>\n",
       "      <td>28590</td>\n",
       "    </tr>\n",
       "    <tr>\n",
       "      <th>3</th>\n",
       "      <td>master</td>\n",
       "      <td>1</td>\n",
       "      <td>48888</td>\n",
       "      <td>20298</td>\n",
       "      <td>1</td>\n",
       "      <td>NaN</td>\n",
       "      <td>NaN</td>\n",
       "      <td>28590</td>\n",
       "    </tr>\n",
       "    <tr>\n",
       "      <th>4</th>\n",
       "      <td>master</td>\n",
       "      <td>1</td>\n",
       "      <td>46982</td>\n",
       "      <td>18392</td>\n",
       "      <td>1</td>\n",
       "      <td>NaN</td>\n",
       "      <td>NaN</td>\n",
       "      <td>28590</td>\n",
       "    </tr>\n",
       "  </tbody>\n",
       "</table>\n",
       "</div>"
      ],
      "text/plain": [
       "   degree  classification  salary  nor_salary  Unnamed: 4  Unnamed: 5  \\\n",
       "0  master               1   50393       21803           1         NaN   \n",
       "1  master               1   43984       15394           1         NaN   \n",
       "2  master               1   44518       15928           1         NaN   \n",
       "3  master               1   48888       20298           1         NaN   \n",
       "4  master               1   46982       18392           1         NaN   \n",
       "\n",
       "   basic monthly salary  28590  \n",
       "0                   NaN  28590  \n",
       "1                   NaN  28590  \n",
       "2                   NaN  28590  \n",
       "3                   NaN  28590  \n",
       "4                   NaN  28590  "
      ]
     },
     "execution_count": 3,
     "metadata": {},
     "output_type": "execute_result"
    }
   ],
   "source": [
    "# Load the sheet named '工作表1'\n",
    "df = excel_data.parse('工作表1')\n",
    "\n",
    "# Display the first few rows to understand the structure\n",
    "df.head()"
   ]
  },
  {
   "cell_type": "code",
   "execution_count": 5,
   "id": "53af451c",
   "metadata": {},
   "outputs": [
    {
     "data": {
      "text/plain": [
       "(0.8247915402895478, 1.872755976839596e-11)"
      ]
     },
     "execution_count": 5,
     "metadata": {},
     "output_type": "execute_result"
    }
   ],
   "source": [
    "from scipy.stats import pearsonr\n",
    "\n",
    "# Clean the DataFrame by removing unnecessary columns\n",
    "df_clean = df[['degree', 'classification', 'salary']].dropna()\n",
    "\n",
    "# Convert 'degree' to numerical using label encoding for Pearson correlation\n",
    "df_clean['degree_num'] = df_clean['degree'].astype('category').cat.codes\n",
    "\n",
    "# Compute Pearson correlation\n",
    "corr_degree_salary, p_degree_salary = pearsonr(df_clean['degree_num'], df_clean['salary'])\n",
    "(corr_degree_salary, p_degree_salary)"
   ]
  },
  {
   "cell_type": "code",
   "execution_count": 7,
   "id": "c17c7534",
   "metadata": {},
   "outputs": [
    {
     "data": {
      "text/plain": [
       "(1.9935143450807473,\n",
       " 0.16517855325129413,\n",
       " 0.190402267794504,\n",
       " 0.4363510831824576)"
      ]
     },
     "execution_count": 7,
     "metadata": {},
     "output_type": "execute_result"
    }
   ],
   "source": [
    "from scipy.stats import f_oneway, kruskal\n",
    "# 篩選 degree 為 master 的資料並取得 classification 與 salary 欄位\n",
    "df_master_salary = df[df['degree'] == 'master'][['classification', 'salary']].dropna()\n",
    "\n",
    "# 依據 classification 分組薪資\n",
    "groups_salary = [group['salary'].values for _, group in df_master_salary.groupby('classification')]\n",
    "\n",
    "# 執行 ANOVA\n",
    "anova_salary_result = f_oneway(*groups_salary)\n",
    "\n",
    "# 計算 η² 與 r\n",
    "ss_total_salary = df_master_salary['salary'].var(ddof=0) * (len(df_master_salary) - 1)\n",
    "ss_between_salary = sum(\n",
    "    len(group) * (group['salary'].mean() - df_master_salary['salary'].mean())**2\n",
    "    for _, group in df_master_salary.groupby('classification')\n",
    ")\n",
    "eta_squared_salary = ss_between_salary / ss_total_salary\n",
    "r_effect_salary = eta_squared_salary**0.5\n",
    "\n",
    "anova_salary_result.statistic, anova_salary_result.pvalue, eta_squared_salary, r_effect_salary"
   ]
  }
 ],
 "metadata": {
  "kernelspec": {
   "display_name": "tflm2",
   "language": "python",
   "name": "python3"
  },
  "language_info": {
   "codemirror_mode": {
    "name": "ipython",
    "version": 3
   },
   "file_extension": ".py",
   "mimetype": "text/x-python",
   "name": "python",
   "nbconvert_exporter": "python",
   "pygments_lexer": "ipython3",
   "version": "3.7.12"
  }
 },
 "nbformat": 4,
 "nbformat_minor": 5
}
